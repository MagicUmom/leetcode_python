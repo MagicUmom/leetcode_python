{
 "cells": [
  {
   "cell_type": "code",
   "execution_count": 52,
   "metadata": {},
   "outputs": [],
   "source": [
    "class Solution:\n",
    "    def lengthOfLongestSubstring(self, s: str) -> int:\n",
    "        \n",
    "        ans,start,i = 0,-1,0\n",
    "        myDict = dict()\n",
    "        \n",
    "        for i in range(len(s)):\n",
    "            if s[i] in myDict:\n",
    "                if start!=-1 and s[start] == s[i]:\n",
    "                    tmp = i-start-1\n",
    "                    ans = max(tmp,ans)\n",
    "                    start = myDict[s[i]]\n",
    "                    myDict[s[i]] = i\n",
    "                else:\n",
    "                    tmp = i-start-1 \n",
    "                    ans = max(ans,tmp)\n",
    "                    start = max(myDict[s[i]], start)\n",
    "                    myDict[s[i]] = i\n",
    "\n",
    "            else:\n",
    "                myDict[s[i]] = i\n",
    "            \n",
    "            # print(\"i={}, start={} ,ans={}, myDict={},\".format(i,start,ans,myDict))\n",
    "        \n",
    "        \n",
    "        return max(ans,i-start) if len(s)>1 else len(s)"
   ]
  },
  {
   "cell_type": "code",
   "execution_count": 53,
   "metadata": {},
   "outputs": [
    {
     "name": "stdout",
     "output_type": "stream",
     "text": [
      "i=0, start=-1 ,ans=0, myDict={'a': 0},\n",
      "i=1, start=-1 ,ans=0, myDict={'a': 0, 'b': 1},\n",
      "i=2, start=-1 ,ans=0, myDict={'a': 0, 'b': 1, 'c': 2},\n",
      "i=3, start=-1 ,ans=0, myDict={'a': 0, 'b': 1, 'c': 2},\n",
      "i=4, start=1 ,ans=4, myDict={'a': 0, 'b': 4, 'c': 2},\n",
      "i=5, start=1 ,ans=4, myDict={'a': 0, 'b': 4, 'c': 2},\n",
      "i=6, start=4 ,ans=4, myDict={'a': 0, 'b': 6, 'c': 2},\n",
      "i=7, start=6 ,ans=4, myDict={'a': 0, 'b': 7, 'c': 2},\n"
     ]
    },
    {
     "data": {
      "text/plain": [
       "4"
      ]
     },
     "execution_count": 53,
     "metadata": {},
     "output_type": "execute_result"
    }
   ],
   "source": [
    "s = \"abcabcbb\"\n",
    "Solution().lengthOfLongestSubstring(s)"
   ]
  }
 ],
 "metadata": {
  "kernelspec": {
   "display_name": "Python 3",
   "language": "python",
   "name": "python3"
  },
  "language_info": {
   "codemirror_mode": {
    "name": "ipython",
    "version": 3
   },
   "file_extension": ".py",
   "mimetype": "text/x-python",
   "name": "python",
   "nbconvert_exporter": "python",
   "pygments_lexer": "ipython3",
   "version": "3.6.6"
  }
 },
 "nbformat": 4,
 "nbformat_minor": 2
}
