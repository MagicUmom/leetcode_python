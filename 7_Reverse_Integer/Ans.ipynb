{
 "cells": [
  {
   "cell_type": "code",
   "execution_count": 55,
   "metadata": {},
   "outputs": [],
   "source": [
    "class Solution:\n",
    "    def reverse(self, x: int) -> int:\n",
    "        if x >= 2**31-1 or x <= -2**31: return 0\n",
    "        else:\n",
    "            strg = str(x)\n",
    "            if x >= 0 :\n",
    "                revst = strg[::-1]\n",
    "            else:\n",
    "                temp = strg[1:] \n",
    "                temp2 = temp[::-1] \n",
    "                revst = \"-\" + temp2\n",
    "            if int(revst) >= 2**31-1 or int(revst) <= -2**31: return 0\n",
    "            else: return int(revst)\n"
   ]
  },
  {
   "cell_type": "code",
   "execution_count": 56,
   "metadata": {},
   "outputs": [
    {
     "data": {
      "text/plain": [
       "0"
      ]
     },
     "execution_count": 56,
     "metadata": {},
     "output_type": "execute_result"
    }
   ],
   "source": [
    "s = 1534236469\n",
    "Solution().reverse(s)"
   ]
  }
 ],
 "metadata": {
  "kernelspec": {
   "display_name": "Python 3",
   "language": "python",
   "name": "python3"
  },
  "language_info": {
   "codemirror_mode": {
    "name": "ipython",
    "version": 3
   },
   "file_extension": ".py",
   "mimetype": "text/x-python",
   "name": "python",
   "nbconvert_exporter": "python",
   "pygments_lexer": "ipython3",
   "version": "3.6.6"
  }
 },
 "nbformat": 4,
 "nbformat_minor": 2
}
