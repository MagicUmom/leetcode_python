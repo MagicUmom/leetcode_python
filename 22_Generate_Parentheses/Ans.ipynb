{
 "cells": [
  {
   "cell_type": "code",
   "execution_count": 1,
   "metadata": {},
   "outputs": [],
   "source": [
    "class Solution:\n",
    "    def __init__(self):\n",
    "        self.ans = list()\n",
    "        \n",
    "    def generateParenthesis(self, n: int):\n",
    "        size = 0\n",
    "        string = \"\"\n",
    "        self.travel(size, n, string)\n",
    "#         print(self.ans)\n",
    "        return self.ans\n",
    "        \n",
    "    def travel(self, size, n, string):\n",
    "#         print(n, size, string)\n",
    "        if size>0 and n==0:\n",
    "            while( size>0 ):\n",
    "                string += \")\"\n",
    "                size-=1\n",
    "            self.ans.append(string)\n",
    "    \n",
    "        elif n>0:\n",
    "            self.travel(size+1,n-1,string+\"(\")\n",
    "\n",
    "            if size>0:\n",
    "                self.travel(size-1,n,string+\")\")"
   ]
  },
  {
   "cell_type": "code",
   "execution_count": 2,
   "metadata": {},
   "outputs": [
    {
     "data": {
      "text/plain": [
       "['((()))', '(()())', '(())()', '()(())', '()()()']"
      ]
     },
     "execution_count": 2,
     "metadata": {},
     "output_type": "execute_result"
    }
   ],
   "source": [
    "n = 3\n",
    "Solution().generateParenthesis(n)"
   ]
  },
  {
   "cell_type": "markdown",
   "metadata": {},
   "source": [
    "![Score](pics/score.jpg)"
   ]
  },
  {
   "cell_type": "code",
   "execution_count": null,
   "metadata": {},
   "outputs": [],
   "source": []
  }
 ],
 "metadata": {
  "kernelspec": {
   "display_name": "Python 3",
   "language": "python",
   "name": "python3"
  },
  "language_info": {
   "codemirror_mode": {
    "name": "ipython",
    "version": 3
   },
   "file_extension": ".py",
   "mimetype": "text/x-python",
   "name": "python",
   "nbconvert_exporter": "python",
   "pygments_lexer": "ipython3",
   "version": "3.6.6"
  }
 },
 "nbformat": 4,
 "nbformat_minor": 2
}
