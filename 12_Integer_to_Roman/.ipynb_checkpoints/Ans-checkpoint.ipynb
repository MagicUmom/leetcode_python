{
 "cells": [
  {
   "cell_type": "code",
   "execution_count": 18,
   "metadata": {},
   "outputs": [],
   "source": [
    "class Solution:\n",
    "    def intToRoman(self, num: int) -> str:\n",
    "        i = 1\n",
    "        ans = \"\"\n",
    "        \n",
    "        myDict = {\n",
    "            1:'I',\n",
    "            5:'V',\n",
    "            10:'X',\n",
    "            50:'L',\n",
    "            100:'C',\n",
    "            500:'D',\n",
    "            1000:'M' }\n",
    "        \n",
    "        while(num > 0):\n",
    "            x = num % 10\n",
    "            \n",
    "            if x == 1:\n",
    "                ans +=  myDict[i*1]\n",
    "            elif x < 4:\n",
    "                ans +=  x* myDict[i*1]\n",
    "            elif x == 4:\n",
    "                ans +=  myDict[i*5] + myDict[i*1]\n",
    "            elif x == 5:\n",
    "                ans +=  myDict[i*5]\n",
    "            elif x < 9:\n",
    "                ans +=  (x-5)*myDict[i*1] + myDict[i*5]\n",
    "            elif x == 9:\n",
    "                ans +=  myDict[i*10] + myDict[i]\n",
    "\n",
    "            \n",
    "            num = num//10\n",
    "            i = i*10\n",
    "        \n",
    "        return ans[::-1]"
   ]
  },
  {
   "cell_type": "code",
   "execution_count": 21,
   "metadata": {},
   "outputs": [
    {
     "data": {
      "text/plain": [
       "'LVI'"
      ]
     },
     "execution_count": 21,
     "metadata": {},
     "output_type": "execute_result"
    }
   ],
   "source": [
    "Solution().intToRoman(58)"
   ]
  },
  {
   "cell_type": "code",
   "execution_count": null,
   "metadata": {},
   "outputs": [],
   "source": []
  }
 ],
 "metadata": {
  "kernelspec": {
   "display_name": "Python 3",
   "language": "python",
   "name": "python3"
  },
  "language_info": {
   "codemirror_mode": {
    "name": "ipython",
    "version": 3
   },
   "file_extension": ".py",
   "mimetype": "text/x-python",
   "name": "python",
   "nbconvert_exporter": "python",
   "pygments_lexer": "ipython3",
   "version": "3.6.6"
  }
 },
 "nbformat": 4,
 "nbformat_minor": 2
}
