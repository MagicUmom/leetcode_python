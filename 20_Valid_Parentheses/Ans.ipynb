{
 "cells": [
  {
   "cell_type": "code",
   "execution_count": 20,
   "metadata": {},
   "outputs": [],
   "source": [
    "class Solution:\n",
    "    def isValid(self, s: str) -> bool:\n",
    "        stack = []\n",
    "        for i in s:\n",
    "#             print(stack)\n",
    "            if  i == '(' or i == '[' or i == '{':\n",
    "                stack.append(i)\n",
    "            elif len(stack) == 0:\n",
    "                return False\n",
    "            elif i == ')':\n",
    "                if stack.pop() != '(':\n",
    "                    return False\n",
    "            elif i == ']':\n",
    "                if stack.pop() != '[':\n",
    "                    return False\n",
    "            elif i == '}':\n",
    "                if stack.pop() != '{':\n",
    "                    return False\n",
    "        if len(stack) != 0:\n",
    "            return False\n",
    "        return True"
   ]
  },
  {
   "cell_type": "code",
   "execution_count": 21,
   "metadata": {},
   "outputs": [
    {
     "name": "stdout",
     "output_type": "stream",
     "text": [
      "[]\n",
      "['(']\n",
      "[]\n",
      "['[']\n",
      "[]\n",
      "['{']\n"
     ]
    },
    {
     "data": {
      "text/plain": [
       "True"
      ]
     },
     "execution_count": 21,
     "metadata": {},
     "output_type": "execute_result"
    }
   ],
   "source": [
    "s = \"()[]{}\"\n",
    "Solution().isValid(s)"
   ]
  },
  {
   "cell_type": "code",
   "execution_count": null,
   "metadata": {},
   "outputs": [],
   "source": []
  }
 ],
 "metadata": {
  "kernelspec": {
   "display_name": "Python 3",
   "language": "python",
   "name": "python3"
  },
  "language_info": {
   "codemirror_mode": {
    "name": "ipython",
    "version": 3
   },
   "file_extension": ".py",
   "mimetype": "text/x-python",
   "name": "python",
   "nbconvert_exporter": "python",
   "pygments_lexer": "ipython3",
   "version": "3.6.6"
  }
 },
 "nbformat": 4,
 "nbformat_minor": 2
}
