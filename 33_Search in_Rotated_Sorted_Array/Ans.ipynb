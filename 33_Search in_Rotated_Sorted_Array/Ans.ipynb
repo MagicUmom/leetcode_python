{
 "cells": [
  {
   "cell_type": "code",
   "execution_count": 63,
   "metadata": {},
   "outputs": [],
   "source": [
    "class Solution:\n",
    "    def search(self, nums: list, target: int) -> int:\n",
    "        \n",
    "        length = len(nums)\n",
    "        left = 0\n",
    "        right = length - 1\n",
    "        mid = (left + right)//2\n",
    "        \n",
    "        if length == 0:\n",
    "            return -1\n",
    "        elif nums[mid] == target:\n",
    "            return mid\n",
    "        elif nums[right] == target :\n",
    "            return right\n",
    "\n",
    "        if target >= nums[0]:\n",
    "            while (left != mid):\n",
    "                if nums[0] > nums[mid] :\n",
    "                    right = mid\n",
    "                elif target > nums[mid]:\n",
    "                    left = mid\n",
    "                else:\n",
    "                    right = mid\n",
    "                mid = (left+right)//2\n",
    "                if nums[mid] == target:\n",
    "                    return mid\n",
    "                \n",
    "        elif target < nums[-1]:\n",
    "            while (left != mid):\n",
    "                if nums[mid] > nums[0] :\n",
    "                    left = mid\n",
    "                elif target > nums[mid]:\n",
    "                    left = mid\n",
    "                else:\n",
    "                    right = mid\n",
    "                mid = (left+right)//2    \n",
    "                if nums[mid] == target:\n",
    "                    return mid\n",
    "        else:\n",
    "            return -1\n",
    "        \n",
    "        return -1"
   ]
  },
  {
   "cell_type": "code",
   "execution_count": 64,
   "metadata": {},
   "outputs": [
    {
     "data": {
      "text/plain": [
       "4"
      ]
     },
     "execution_count": 64,
     "metadata": {},
     "output_type": "execute_result"
    }
   ],
   "source": [
    "nums = [4,5,6,7,0,1,2]\n",
    "target = 0\n",
    "Solution().search(nums, target)"
   ]
  },
  {
   "cell_type": "code",
   "execution_count": null,
   "metadata": {},
   "outputs": [],
   "source": []
  }
 ],
 "metadata": {
  "kernelspec": {
   "display_name": "Python 3",
   "language": "python",
   "name": "python3"
  },
  "language_info": {
   "codemirror_mode": {
    "name": "ipython",
    "version": 3
   },
   "file_extension": ".py",
   "mimetype": "text/x-python",
   "name": "python",
   "nbconvert_exporter": "python",
   "pygments_lexer": "ipython3",
   "version": "3.6.6"
  }
 },
 "nbformat": 4,
 "nbformat_minor": 2
}
