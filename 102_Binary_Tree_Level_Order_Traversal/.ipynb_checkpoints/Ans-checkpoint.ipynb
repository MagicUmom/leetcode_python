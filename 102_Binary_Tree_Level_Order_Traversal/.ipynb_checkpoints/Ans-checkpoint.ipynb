{
 "cells": [
  {
   "cell_type": "code",
   "execution_count": 33,
   "metadata": {},
   "outputs": [],
   "source": [
    "# Definition for a binary tree node.\n",
    "class TreeNode:\n",
    "    def __init__(self, x):\n",
    "        self.val = x\n",
    "        self.left = None\n",
    "        self.right = None\n",
    "\n",
    "class Solution:\n",
    "    def levelOrder(self, root: TreeNode) -> list:\n",
    "        \n",
    "        ans = []\n",
    "        \n",
    "        def travel(Node, level):\n",
    "            \n",
    "            if Node == None:\n",
    "                return \n",
    "            if level in range(len(ans)):\n",
    "                ans[level].append(Node.val)\n",
    "            else:\n",
    "                ans.append([Node.val])\n",
    "                \n",
    "            travel(Node.left, level+1)\n",
    "            travel(Node.right, level+1)\n",
    "        \n",
    "        travel(root, 0)\n",
    "        \n",
    "        return ans"
   ]
  },
  {
   "cell_type": "code",
   "execution_count": null,
   "metadata": {},
   "outputs": [],
   "source": []
  }
 ],
 "metadata": {
  "kernelspec": {
   "display_name": "Python 3",
   "language": "python",
   "name": "python3"
  },
  "language_info": {
   "codemirror_mode": {
    "name": "ipython",
    "version": 3
   },
   "file_extension": ".py",
   "mimetype": "text/x-python",
   "name": "python",
   "nbconvert_exporter": "python",
   "pygments_lexer": "ipython3",
   "version": "3.6.6"
  }
 },
 "nbformat": 4,
 "nbformat_minor": 2
}
