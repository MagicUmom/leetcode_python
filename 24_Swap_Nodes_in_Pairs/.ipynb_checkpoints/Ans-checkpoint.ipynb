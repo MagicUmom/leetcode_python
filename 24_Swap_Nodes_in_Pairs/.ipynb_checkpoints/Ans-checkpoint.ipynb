{
 "cells": [
  {
   "cell_type": "code",
   "execution_count": null,
   "metadata": {},
   "outputs": [],
   "source": [
    "# Definition for singly-linked list.\n",
    "# class ListNode:\n",
    "#     def __init__(self, x):\n",
    "#         self.val = x\n",
    "#         self.next = None\n",
    "\n",
    "class Solution:\n",
    "    def swapPairs(self, head: ListNode) -> ListNode:\n",
    "        if head == None or head.next == None:\n",
    "            return head\n",
    "        else:\n",
    "            cur = head.next\n",
    "            pre = head\n",
    "            pos = cur.next\n",
    "            ## swap\n",
    "            cur.next = pre\n",
    "            pre.next = pos\n",
    "            head = cur\n",
    "\n",
    "        while(pos != None):\n",
    "            if pos.next != None:\n",
    "                pre.next = pos.next\n",
    "                cur = pos.next\n",
    "                pre = pos\n",
    "                pos = cur.next\n",
    "                ## swap\n",
    "                cur.next = pre\n",
    "                pre.next = pos\n",
    "            else :\n",
    "                break\n",
    "        \n",
    "        return head"
   ]
  }
 ],
 "metadata": {
  "kernelspec": {
   "display_name": "Python 3",
   "language": "python",
   "name": "python3"
  },
  "language_info": {
   "codemirror_mode": {
    "name": "ipython",
    "version": 3
   },
   "file_extension": ".py",
   "mimetype": "text/x-python",
   "name": "python",
   "nbconvert_exporter": "python",
   "pygments_lexer": "ipython3",
   "version": "3.6.6"
  }
 },
 "nbformat": 4,
 "nbformat_minor": 2
}
