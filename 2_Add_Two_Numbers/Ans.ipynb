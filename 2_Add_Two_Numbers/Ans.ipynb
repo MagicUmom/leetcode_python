{
 "cells": [
  {
   "cell_type": "code",
   "execution_count": 3,
   "metadata": {},
   "outputs": [],
   "source": [
    "# Definition for singly-linked list.\n",
    "# class ListNode:\n",
    "#     def __init__(self, x):\n",
    "#         self.val = x\n",
    "#         self.next = None\n",
    "\n",
    "class Solution:\n",
    "    def addTwoNumbers(self, l1: ListNode, l2: ListNode) -> ListNode:\n",
    "        startNode = ListNode(0)\n",
    "        preNode = ListNode(0)\n",
    "        \n",
    "        startNode = preNode\n",
    "        flag = 0\n",
    "        \n",
    "        \n",
    "        while(True):\n",
    "            \n",
    "            val = l1.val + l2.val + flag\n",
    "            currentNode = ListNode(val%10)\n",
    "            flag = val // 10\n",
    "\n",
    "            preNode.next = currentNode\n",
    "            preNode = preNode.next\n",
    "            \n",
    "            if (l1.next == None and  l2.next == None and flag == 0):\n",
    "                break\n",
    "\n",
    "            else:\n",
    "                if l1.next == None:\n",
    "                    l1.next = ListNode(0)\n",
    "                if l2.next == None:\n",
    "                    l2.next = ListNode(0)\n",
    "\n",
    "            l1 = l1.next\n",
    "            l2 = l2.next\n",
    "            \n",
    "        return startNode.next"
   ]
  },
  {
   "cell_type": "code",
   "execution_count": null,
   "metadata": {},
   "outputs": [],
   "source": []
  }
 ],
 "metadata": {
  "kernelspec": {
   "display_name": "Python 3",
   "language": "python",
   "name": "python3"
  },
  "language_info": {
   "codemirror_mode": {
    "name": "ipython",
    "version": 3
   },
   "file_extension": ".py",
   "mimetype": "text/x-python",
   "name": "python",
   "nbconvert_exporter": "python",
   "pygments_lexer": "ipython3",
   "version": "3.6.6"
  }
 },
 "nbformat": 4,
 "nbformat_minor": 2
}
