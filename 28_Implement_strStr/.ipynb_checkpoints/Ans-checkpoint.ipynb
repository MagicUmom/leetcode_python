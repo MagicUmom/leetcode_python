{
 "cells": [
  {
   "cell_type": "code",
   "execution_count": 1,
   "metadata": {},
   "outputs": [],
   "source": [
    "class Solution:\n",
    "    def strStr(self, haystack: str, needle: str) -> int:\n",
    "        \n",
    "        if needle == \"\" or needle == None:\n",
    "            return 0\n",
    "        flag = False\n",
    "        \n",
    "        for i in range(len(haystack)):\n",
    "            if haystack[i] == needle[0]:\n",
    "                for j in range(len(1,needle)):\n",
    "                    if haystack[i+j] != needle[j]:\n",
    "                        flag = False\n",
    "                        break\n",
    "                    else:\n",
    "                        flag = True\n",
    "                \n",
    "                if flag == True:\n",
    "                    return i\n",
    "        \n",
    "        return -1"
   ]
  },
  {
   "cell_type": "code",
   "execution_count": 3,
   "metadata": {},
   "outputs": [
    {
     "data": {
      "text/plain": [
       "0"
      ]
     },
     "execution_count": 3,
     "metadata": {},
     "output_type": "execute_result"
    }
   ],
   "source": [
    "s = \"Hello\"\n",
    "needle = \"ll\"\n",
    "Solution().strStr(s,needle)"
   ]
  },
  {
   "cell_type": "code",
   "execution_count": null,
   "metadata": {},
   "outputs": [],
   "source": []
  }
 ],
 "metadata": {
  "kernelspec": {
   "display_name": "Python 3",
   "language": "python",
   "name": "python3"
  },
  "language_info": {
   "codemirror_mode": {
    "name": "ipython",
    "version": 3
   },
   "file_extension": ".py",
   "mimetype": "text/x-python",
   "name": "python",
   "nbconvert_exporter": "python",
   "pygments_lexer": "ipython3",
   "version": "3.6.6"
  }
 },
 "nbformat": 4,
 "nbformat_minor": 2
}
