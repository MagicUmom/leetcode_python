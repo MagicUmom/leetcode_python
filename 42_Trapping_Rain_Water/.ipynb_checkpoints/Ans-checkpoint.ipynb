{
 "cells": [
  {
   "cell_type": "code",
   "execution_count": 38,
   "metadata": {},
   "outputs": [],
   "source": [
    "class Solution:\n",
    "    def trap(self, height) -> int:\n",
    "        L = 0\n",
    "        R = len(height) -1\n",
    "        tmp = 0\n",
    "        \n",
    "        total_sum = 0\n",
    "        \n",
    "        if R>L:\n",
    "            ## 找到左邊不為0的邊界\n",
    "            while(height[L] == 0):\n",
    "                L+=1\n",
    "\n",
    "            ## 找到右邊不為0的邊界\n",
    "            while(height[R] == 0):\n",
    "                R-=1\n",
    "            \n",
    "        while(L < R):\n",
    "#             print(L,R,total_sum)\n",
    "            ## 如果左邊邊界高度比較低, 則從左邊往中心縮減\n",
    "            if height[L] < height[R]:\n",
    "                tmp = L+1  # tmp 為左邊邊界往右邊走一步\n",
    "                while(height[tmp] < height[L] and L<R ):\n",
    "                    total_sum += (height[L] - height[tmp])\n",
    "                    tmp+=1\n",
    "                L = tmp\n",
    "\n",
    "            ## 如果右邊邊界高度比較低, 則從右邊往中心縮減\n",
    "            else:\n",
    "                tmp = R-1  # tmp 為右邊邊界往左邊走一步\n",
    "                while(height[tmp] < height[R] and L<R ):\n",
    "                    total_sum += (height[R] - height[tmp])\n",
    "                    tmp-=1\n",
    "                R = tmp\n",
    "        return total_sum"
   ]
  },
  {
   "cell_type": "code",
   "execution_count": 39,
   "metadata": {},
   "outputs": [
    {
     "data": {
      "text/plain": [
       "6"
      ]
     },
     "execution_count": 39,
     "metadata": {},
     "output_type": "execute_result"
    }
   ],
   "source": [
    "s = [0,1,0,2,1,0,1,3,2,1,2,1]\n",
    "Solution().trap(s)"
   ]
  },
  {
   "cell_type": "markdown",
   "metadata": {},
   "source": [
    "![Score](pics/score.png)"
   ]
  },
  {
   "cell_type": "code",
   "execution_count": null,
   "metadata": {},
   "outputs": [],
   "source": []
  }
 ],
 "metadata": {
  "kernelspec": {
   "display_name": "Python 3",
   "language": "python",
   "name": "python3"
  },
  "language_info": {
   "codemirror_mode": {
    "name": "ipython",
    "version": 3
   },
   "file_extension": ".py",
   "mimetype": "text/x-python",
   "name": "python",
   "nbconvert_exporter": "python",
   "pygments_lexer": "ipython3",
   "version": "3.6.6"
  }
 },
 "nbformat": 4,
 "nbformat_minor": 2
}
