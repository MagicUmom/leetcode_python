{
 "cells": [
  {
   "cell_type": "code",
   "execution_count": 54,
   "metadata": {},
   "outputs": [],
   "source": [
    "class Solution:\n",
    "    def trapRainWater(self, heightMap) -> int:\n",
    "        rows = len(heightMap)\n",
    "        cols = len(heightMap[0])\n",
    "        \n",
    "        \n",
    "        ## 新增 MAP matrix ##\n",
    "        ## -1 還沒檢查\n",
    "        ## 0  低窪區\n",
    "        ## 1  柱子\n",
    "        ## 2  邊界\n",
    "        MAP = [[2] * cols]\n",
    "        l = [2] + ([-1] * (cols-2) ) + [2]\n",
    "        for _ in range(rows - 2):\n",
    "            MAP.append(l)\n",
    "        MAP.append([2] * cols)\n",
    "#         print(MAP)\n",
    "        \n",
    "        \n",
    "        for i in range(1,cols-1):\n",
    "            for j in range(1, rows-1):\n",
    "                if (heightMap[i][j] == -1):\n",
    "                    ## check (上下左右) from center\n",
    "                \n",
    "    def check(self, heightMap, MAP, i, j, minLine):\n",
    "        if heightMap[i][j] < heightMap[i][j-1] : ##檢查上面\n",
    "            print('1')\n",
    "        else:\n",
    "            MAP[i][j] = 1\n",
    "        \n",
    "        if heightMap[i][j] < heightMap[i-1][j] : ##檢查左邊\n",
    "            print('1')\n",
    "        else:\n",
    "            "
   ]
  },
  {
   "cell_type": "code",
   "execution_count": 56,
   "metadata": {},
   "outputs": [
    {
     "data": {
      "text/plain": [
       "['((()))', '(()())', '(())()', '()(())', '()()()']"
      ]
     },
     "execution_count": 56,
     "metadata": {},
     "output_type": "execute_result"
    }
   ],
   "source": [
    "n=3\n",
    "Solution().trapRainWater(n)"
   ]
  },
  {
   "cell_type": "code",
   "execution_count": null,
   "metadata": {},
   "outputs": [],
   "source": []
  }
 ],
 "metadata": {
  "kernelspec": {
   "display_name": "Python 3",
   "language": "python",
   "name": "python3"
  },
  "language_info": {
   "codemirror_mode": {
    "name": "ipython",
    "version": 3
   },
   "file_extension": ".py",
   "mimetype": "text/x-python",
   "name": "python",
   "nbconvert_exporter": "python",
   "pygments_lexer": "ipython3",
   "version": "3.6.6"
  }
 },
 "nbformat": 4,
 "nbformat_minor": 2
}
