{
 "cells": [
  {
   "cell_type": "code",
   "execution_count": 85,
   "metadata": {},
   "outputs": [],
   "source": [
    "class Solution:\n",
    "    def threeSum(self, nums) :\n",
    "        neg = list()\n",
    "        pos = list()\n",
    "        ans = list()\n",
    "        \n",
    "        zero_times = 0\n",
    "        \n",
    "        for i in nums:\n",
    "            if i > 0 :\n",
    "                pos.append(i)\n",
    "            else:\n",
    "                neg.append(i)\n",
    "                if i == 0:\n",
    "                    zero_times+=1\n",
    "        if zero_times >= 3 :\n",
    "            ans.append([0,0,0])\n",
    "#         print(neg,pos)\n",
    "        \n",
    "        tmp_set = set(pos)\n",
    "#         print(tmp_set)\n",
    "        for i in range(len(neg)-1):\n",
    "            for j in range(i+1,len(neg)):\n",
    "                v = 0-(neg[i]+neg[j])\n",
    "                if v in tmp_set:\n",
    "#                     print(tmp_set,v)\n",
    "                    ans.append([neg[i],neg[j], v ] )\n",
    "                    tmp_set.remove(v)\n",
    "                    \n",
    "        tmp_set = set(neg)\n",
    "        for i in range(len(pos)-1):\n",
    "            for j in range(i+1,len(pos)):\n",
    "                v = 0-(pos[i]+pos[j])\n",
    "                if v in tmp_set:\n",
    "                    ans.append([pos[i],pos[j], v] )\n",
    "                    tmp_set.remove(v)\n",
    "        \n",
    "        \n",
    "        return ans"
   ]
  },
  {
   "cell_type": "code",
   "execution_count": 87,
   "metadata": {},
   "outputs": [
    {
     "data": {
      "text/plain": [
       "[[-4, -2, 6], [-4, 0, 4], [-2, 0, 2], [1, 3, -4]]"
      ]
     },
     "execution_count": 87,
     "metadata": {},
     "output_type": "execute_result"
    }
   ],
   "source": [
    "s = [-4,-2,-2,-2,0,1,2,2,2,3,3,4,4,6,6]\n",
    "Solution().threeSum(s)"
   ]
  },
  {
   "cell_type": "code",
   "execution_count": 88,
   "metadata": {},
   "outputs": [],
   "source": [
    "s = set([-4,-2,-2,-2])"
   ]
  },
  {
   "cell_type": "code",
   "execution_count": 89,
   "metadata": {},
   "outputs": [
    {
     "data": {
      "text/plain": [
       "{-4, -2}"
      ]
     },
     "execution_count": 89,
     "metadata": {},
     "output_type": "execute_result"
    }
   ],
   "source": [
    "s"
   ]
  },
  {
   "cell_type": "code",
   "execution_count": 91,
   "metadata": {},
   "outputs": [
    {
     "data": {
      "text/plain": [
       "True"
      ]
     },
     "execution_count": 91,
     "metadata": {},
     "output_type": "execute_result"
    }
   ],
   "source": [
    "0-(2+2) in s"
   ]
  },
  {
   "cell_type": "code",
   "execution_count": null,
   "metadata": {},
   "outputs": [],
   "source": []
  }
 ],
 "metadata": {
  "kernelspec": {
   "display_name": "Python 3",
   "language": "python",
   "name": "python3"
  },
  "language_info": {
   "codemirror_mode": {
    "name": "ipython",
    "version": 3
   },
   "file_extension": ".py",
   "mimetype": "text/x-python",
   "name": "python",
   "nbconvert_exporter": "python",
   "pygments_lexer": "ipython3",
   "version": "3.6.6"
  }
 },
 "nbformat": 4,
 "nbformat_minor": 2
}
