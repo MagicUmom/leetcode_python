{
 "cells": [
  {
   "cell_type": "code",
   "execution_count": 1,
   "metadata": {},
   "outputs": [],
   "source": [
    "class Solution:\n",
    "    def maxArea(self, height) -> int:\n",
    "        leng = len(height)\n",
    "        L = 0\n",
    "        R = leng-1\n",
    "        \n",
    "        max_container = 0\n",
    "        \n",
    "        while(L < R): \n",
    "            ## 步驟1: 取左右兩邊可裝的最大水量\n",
    "            t = min(height[L],height[R]) * (R-L)\n",
    "            if t > max_container :\n",
    "                max_container = t\n",
    "            \n",
    "            ## 步驟2: 從左右兩邊向內縮小, 取 L,R高度小的一邊開始向內縮\n",
    "            ## 有兩種情況, 如果L向內縮遇到L', 要得到 L < L' 才能停止\n",
    "            if height[L] > height[R]:\n",
    "                tmp = R-1\n",
    "                while(height[tmp] < height[R]):\n",
    "                    tmp-=1\n",
    "                R = tmp\n",
    "            else:\n",
    "                tmp = L+1\n",
    "                while(height[tmp] < height[L]):\n",
    "                    tmp+=1\n",
    "                L = tmp\n",
    "                    \n",
    "        return max_container"
   ]
  },
  {
   "cell_type": "code",
   "execution_count": 2,
   "metadata": {},
   "outputs": [
    {
     "data": {
      "text/plain": [
       "49"
      ]
     },
     "execution_count": 2,
     "metadata": {},
     "output_type": "execute_result"
    }
   ],
   "source": [
    "s = [1,8,6,2,5,4,8,3,7]\n",
    "Solution().maxArea(s)"
   ]
  },
  {
   "cell_type": "markdown",
   "metadata": {},
   "source": [
    "![Score](pics/score.png)"
   ]
  },
  {
   "cell_type": "code",
   "execution_count": null,
   "metadata": {},
   "outputs": [],
   "source": []
  }
 ],
 "metadata": {
  "kernelspec": {
   "display_name": "Python 3",
   "language": "python",
   "name": "python3"
  },
  "language_info": {
   "codemirror_mode": {
    "name": "ipython",
    "version": 3
   },
   "file_extension": ".py",
   "mimetype": "text/x-python",
   "name": "python",
   "nbconvert_exporter": "python",
   "pygments_lexer": "ipython3",
   "version": "3.6.6"
  }
 },
 "nbformat": 4,
 "nbformat_minor": 2
}
