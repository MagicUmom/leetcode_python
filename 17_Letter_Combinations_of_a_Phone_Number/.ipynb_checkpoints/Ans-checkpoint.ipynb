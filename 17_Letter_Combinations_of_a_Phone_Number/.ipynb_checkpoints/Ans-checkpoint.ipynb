{
 "cells": [
  {
   "cell_type": "code",
   "execution_count": 17,
   "metadata": {},
   "outputs": [],
   "source": [
    "class Solution:\n",
    "    def __init__(self):\n",
    "        self.myDict = {\n",
    "            \"2\" : \"abc\",\n",
    "            \"3\" : \"def\",\n",
    "            \"4\" : \"ghi\",\n",
    "            \"5\" : \"jkl\",\n",
    "            \"6\" : \"mno\",\n",
    "            \"7\" : \"pqrs\",\n",
    "            \"8\" : \"tuv\",\n",
    "            \"9\" : \"wxyz\"\n",
    "        }\n",
    "    def letterCombinations(self, digits: str):\n",
    "        \n",
    "        ans = []\n",
    "        def travel(digits, S=\"\"):\n",
    "            if len(digits) == 0:\n",
    "                ans.append(S)\n",
    "                return\n",
    "            else:\n",
    "                travel(digits[1:], S+ self.myDict[digits[0]][0])\n",
    "                travel(digits[1:], S+ self.myDict[digits[0]][1])\n",
    "                travel(digits[1:], S+ self.myDict[digits[0]][2])\n",
    "\n",
    "        travel(s)\n",
    "        \n",
    "        return ans"
   ]
  },
  {
   "cell_type": "code",
   "execution_count": 19,
   "metadata": {},
   "outputs": [
    {
     "name": "stdout",
     "output_type": "stream",
     "text": [
      "234\n",
      "34\n",
      "4\n",
      "4\n",
      "4\n",
      "34\n",
      "4\n",
      "4\n",
      "4\n",
      "34\n",
      "4\n",
      "4\n",
      "4\n"
     ]
    },
    {
     "data": {
      "text/plain": [
       "['adg',\n",
       " 'adh',\n",
       " 'adi',\n",
       " 'aeg',\n",
       " 'aeh',\n",
       " 'aei',\n",
       " 'afg',\n",
       " 'afh',\n",
       " 'afi',\n",
       " 'bdg',\n",
       " 'bdh',\n",
       " 'bdi',\n",
       " 'beg',\n",
       " 'beh',\n",
       " 'bei',\n",
       " 'bfg',\n",
       " 'bfh',\n",
       " 'bfi',\n",
       " 'cdg',\n",
       " 'cdh',\n",
       " 'cdi',\n",
       " 'ceg',\n",
       " 'ceh',\n",
       " 'cei',\n",
       " 'cfg',\n",
       " 'cfh',\n",
       " 'cfi']"
      ]
     },
     "execution_count": 19,
     "metadata": {},
     "output_type": "execute_result"
    }
   ],
   "source": [
    "s = \"234\"\n",
    "Solution().letterCombinations(s)"
   ]
  },
  {
   "cell_type": "code",
   "execution_count": 19,
   "metadata": {},
   "outputs": [
    {
     "data": {
      "text/plain": [
       "0"
      ]
     },
     "execution_count": 19,
     "metadata": {},
     "output_type": "execute_result"
    }
   ],
   "source": [
    "a = \"123\"\n",
    "len(a[3:])"
   ]
  },
  {
   "cell_type": "code",
   "execution_count": null,
   "metadata": {},
   "outputs": [],
   "source": []
  }
 ],
 "metadata": {
  "kernelspec": {
   "display_name": "Python 3",
   "language": "python",
   "name": "python3"
  },
  "language_info": {
   "codemirror_mode": {
    "name": "ipython",
    "version": 3
   },
   "file_extension": ".py",
   "mimetype": "text/x-python",
   "name": "python",
   "nbconvert_exporter": "python",
   "pygments_lexer": "ipython3",
   "version": "3.6.6"
  }
 },
 "nbformat": 4,
 "nbformat_minor": 2
}
