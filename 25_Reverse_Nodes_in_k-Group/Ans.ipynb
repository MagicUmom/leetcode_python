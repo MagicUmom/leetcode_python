{
 "cells": [
  {
   "cell_type": "code",
   "execution_count": 25,
   "metadata": {},
   "outputs": [],
   "source": [
    "# Definition for singly-linked list.\n",
    "import queue\n",
    "\n",
    "class ListNode:\n",
    "    def __init__(self, x):\n",
    "        self.val = x\n",
    "        self.next = None\n",
    "\n",
    "class Solution:\n",
    "    def reverseKGroup(self, head: ListNode, k: int) -> ListNode:\n",
    "        cur = head\n",
    "        pre = pos = None\n",
    "        ret = ListNode(None)\n",
    "        \n",
    "        is_head = False\n",
    "        q = queue.Queue()\n",
    "        q.put(ret)\n",
    "        \n",
    "        while(cur != None):\n",
    "            q.put(cur)\n",
    "            pre = None\n",
    "#             print(cur.val)\n",
    "            for i in range(k):\n",
    "#                 print(cur.val)\n",
    "                ## init\n",
    "                pos=cur.next\n",
    "                ## swap\n",
    "                cur.next=pre\n",
    "                ## next node\n",
    "                pre=cur\n",
    "                cur=pos\n",
    "                \n",
    "                if(cur == None):\n",
    "                    break\n",
    "                    \n",
    "\n",
    "            if i == k-1:\n",
    "                origin_head = q.get()\n",
    "                origin_head.next = pre\n",
    "#                 print(origin_head.val)\n",
    "            \n",
    "            else:\n",
    "                cur = pre\n",
    "                pre = None\n",
    "                while(cur != None):\n",
    "                    pos = cur.next\n",
    "                    cur.next = pre\n",
    "                    pre = cur\n",
    "                    cur = pos\n",
    "                \n",
    "                origin_head = q.get()\n",
    "                origin_head.next = q.get()\n",
    "#                 origin_head.next.next = None\n",
    "#         print(q.get().val,q.get().val)\n",
    "        \n",
    "        return ret.next"
   ]
  },
  {
   "cell_type": "code",
   "execution_count": 26,
   "metadata": {},
   "outputs": [],
   "source": [
    "def addList(s) -> ListNode:\n",
    "    start = ListNode(None)\n",
    "    cur = start\n",
    "\n",
    "    for i in s:\n",
    "        cur.next = ListNode(i)\n",
    "        cur = cur.next\n",
    "    return start.next\n",
    "\n",
    "def travelNodes(head):\n",
    "    if head == None:\n",
    "        return\n",
    "    else:\n",
    "        while(True):\n",
    "            print(head.val)\n",
    "            if head.next != None:\n",
    "                head = head.next\n",
    "            else:\n",
    "                return\n",
    "        "
   ]
  },
  {
   "cell_type": "code",
   "execution_count": 27,
   "metadata": {},
   "outputs": [],
   "source": [
    "s = [1,2,3,4,5,6,1]\n",
    "start = addList(s)"
   ]
  },
  {
   "cell_type": "code",
   "execution_count": 28,
   "metadata": {},
   "outputs": [
    {
     "name": "stdout",
     "output_type": "stream",
     "text": [
      "1\n",
      "2\n",
      "3\n",
      "4\n",
      "5\n",
      "6\n",
      "1\n"
     ]
    }
   ],
   "source": [
    "travelNodes(start)"
   ]
  },
  {
   "cell_type": "code",
   "execution_count": 29,
   "metadata": {},
   "outputs": [],
   "source": [
    "ret = Solution().reverseKGroup(start,2)"
   ]
  },
  {
   "cell_type": "code",
   "execution_count": 30,
   "metadata": {},
   "outputs": [
    {
     "name": "stdout",
     "output_type": "stream",
     "text": [
      "2\n",
      "1\n",
      "4\n",
      "3\n",
      "6\n",
      "5\n",
      "1\n"
     ]
    }
   ],
   "source": [
    "travelNodes(ret)"
   ]
  },
  {
   "cell_type": "code",
   "execution_count": null,
   "metadata": {},
   "outputs": [],
   "source": []
  },
  {
   "cell_type": "code",
   "execution_count": null,
   "metadata": {},
   "outputs": [],
   "source": []
  }
 ],
 "metadata": {
  "kernelspec": {
   "display_name": "Python 3",
   "language": "python",
   "name": "python3"
  },
  "language_info": {
   "codemirror_mode": {
    "name": "ipython",
    "version": 3
   },
   "file_extension": ".py",
   "mimetype": "text/x-python",
   "name": "python",
   "nbconvert_exporter": "python",
   "pygments_lexer": "ipython3",
   "version": "3.6.6"
  }
 },
 "nbformat": 4,
 "nbformat_minor": 2
}
