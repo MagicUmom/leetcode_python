{
 "cells": [
  {
   "cell_type": "code",
   "execution_count": null,
   "metadata": {},
   "outputs": [],
   "source": [
    "# Definition for singly-linked list.\n",
    "# class ListNode:\n",
    "#     def __init__(self, x):\n",
    "#         self.val = x\n",
    "#         self.next = None\n",
    "\n",
    "class Solution:\n",
    "    def reverseKGroup(self, head: ListNode, k: int) -> ListNode:\n",
    "        cur = head\n",
    "        pre = pos = ListNode(None)\n",
    "        old_head = ListNode(None)\n",
    "        \n",
    "        while(cur != None):\n",
    "            old_head = pre\n",
    "            for i in range(k):\n",
    "                print(cur.val)\n",
    "                pos=cur.next\n",
    "                cur.next=pre\n",
    "                pre=cur\n",
    "                cur=pos\n",
    "                \n",
    "            if(old_head):\n",
    "                old_head.next = pre\n",
    "        \n",
    "        return old_head"
   ]
  },
  {
   "cell_type": "code",
   "execution_count": null,
   "metadata": {},
   "outputs": [],
   "source": []
  }
 ],
 "metadata": {
  "kernelspec": {
   "display_name": "Python 3",
   "language": "python",
   "name": "python3"
  },
  "language_info": {
   "codemirror_mode": {
    "name": "ipython",
    "version": 3
   },
   "file_extension": ".py",
   "mimetype": "text/x-python",
   "name": "python",
   "nbconvert_exporter": "python",
   "pygments_lexer": "ipython3",
   "version": "3.6.6"
  }
 },
 "nbformat": 4,
 "nbformat_minor": 2
}
