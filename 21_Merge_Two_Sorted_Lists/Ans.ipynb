{
 "cells": [
  {
   "cell_type": "code",
   "execution_count": 1,
   "metadata": {},
   "outputs": [],
   "source": [
    "# Definition for singly-linked list.\n",
    "class ListNode:\n",
    "    def __init__(self, x):\n",
    "        self.val = x\n",
    "        self.next = None\n",
    "\n",
    "class Solution:\n",
    "    def mergeTwoLists(self, l1: ListNode, l2: ListNode) -> ListNode:\n",
    "        \n",
    "        start = ListNode(None)\n",
    "        ptr = start\n",
    "        while(l1 != None or l2 != None):\n",
    "            if l1 == None:\n",
    "                ptr.next = l2\n",
    "                l2 = l2.next\n",
    "            elif l2 == None:\n",
    "                ptr.next = l1\n",
    "                l1 = l1.next\n",
    "            elif l1.val > l2.val:\n",
    "                ptr.next = l2\n",
    "                l2 = l2.next\n",
    "            else:\n",
    "                ptr.next = l1\n",
    "                l1 = l1.next\n",
    "            ptr = ptr.next\n",
    "        \n",
    "        return start.next"
   ]
  },
  {
   "cell_type": "code",
   "execution_count": null,
   "metadata": {},
   "outputs": [],
   "source": []
  }
 ],
 "metadata": {
  "kernelspec": {
   "display_name": "Python 3",
   "language": "python",
   "name": "python3"
  },
  "language_info": {
   "codemirror_mode": {
    "name": "ipython",
    "version": 3
   },
   "file_extension": ".py",
   "mimetype": "text/x-python",
   "name": "python",
   "nbconvert_exporter": "python",
   "pygments_lexer": "ipython3",
   "version": "3.6.6"
  }
 },
 "nbformat": 4,
 "nbformat_minor": 2
}
